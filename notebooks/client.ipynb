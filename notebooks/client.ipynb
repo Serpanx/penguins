{
 "cells": [
  {
   "cell_type": "markdown",
   "metadata": {},
   "source": [
    "DECISSION TREE PETITIONS"
   ]
  },
  {
   "cell_type": "code",
   "execution_count": 78,
   "metadata": {},
   "outputs": [
    {
     "name": "stdout",
     "output_type": "stream",
     "text": [
      "{\n",
      "  \"accuracy(%)\": \"100.0\",\n",
      "  \"penguin\": \"Gentoo\"\n",
      "}\n"
     ]
    },
    {
     "name": "stderr",
     "output_type": "stream",
     "text": [
      "  % Total    % Received % Xferd  Average Speed   Time    Time     Time  Current\n",
      "                                 Dload  Upload   Total   Spent    Left  Speed\n",
      "\n",
      "  0     0    0     0    0     0      0      0 --:--:-- --:--:-- --:--:--     0\n",
      "100   213  100    52  100   161   6899  21361 --:--:-- --:--:-- --:--:-- 30428\n"
     ]
    }
   ],
   "source": [
    "!curl --request POST \"http://127.0.0.1:8000/predict_dt\" \\\n",
    "--header \"Content-Type: application/json\" \\\n",
    "--data-raw \"{\\\n",
    "    \\\"island\\\": \\\"Biscoe\\\",\\\n",
    "    \\\"culmen_length_mm\\\": 42.9,\\\n",
    "    \\\"culmen_depth_mm\\\": 13.1,\\\n",
    "    \\\"flipper_length_mm\\\": 215,\\\n",
    "    \\\"body_mass_g\\\": 5000,\\\n",
    "    \\\"sex\\\": \\\"FEMALE\\\"\\\n",
    "}\" "
   ]
  },
  {
   "cell_type": "code",
   "execution_count": 79,
   "metadata": {},
   "outputs": [
    {
     "name": "stdout",
     "output_type": "stream",
     "text": [
      "{\n",
      "  \"accuracy(%)\": \"100.0\",\n",
      "  \"penguin\": \"Gentoo\"\n",
      "}\n"
     ]
    },
    {
     "name": "stderr",
     "output_type": "stream",
     "text": [
      "  % Total    % Received % Xferd  Average Speed   Time    Time     Time  Current\n",
      "                                 Dload  Upload   Total   Spent    Left  Speed\n",
      "\n",
      "  0     0    0     0    0     0      0      0 --:--:-- --:--:-- --:--:--     0\n",
      "100   211  100    52  100   159   7986  24420 --:--:-- --:--:-- --:--:-- 35166\n"
     ]
    }
   ],
   "source": [
    "!curl --request POST \"http://127.0.0.1:8000/predict_dt\" \\\n",
    "--header \"Content-Type: application/json\" \\\n",
    "--data-raw \"{\\\n",
    "    \\\"island\\\": \\\"Biscoe\\\",\\\n",
    "    \\\"culmen_length_mm\\\": 49.5,\\\n",
    "    \\\"culmen_depth_mm\\\": 16.1,\\\n",
    "    \\\"flipper_length_mm\\\": 224,\\\n",
    "    \\\"body_mass_g\\\": 5650,\\\n",
    "    \\\"sex\\\": \\\"MALE\\\"\\\n",
    "}\" "
   ]
  },
  {
   "cell_type": "markdown",
   "metadata": {},
   "source": [
    "K-NEAREST NEIGHBOURS PETITIONS"
   ]
  },
  {
   "cell_type": "code",
   "execution_count": 80,
   "metadata": {},
   "outputs": [
    {
     "name": "stdout",
     "output_type": "stream",
     "text": [
      "{\n",
      "  \"accuracy(%)\": \"100.0\",\n",
      "  \"penguin\": \"Chinstrap\"\n",
      "}\n"
     ]
    },
    {
     "name": "stderr",
     "output_type": "stream",
     "text": [
      "  % Total    % Received % Xferd  Average Speed   Time    Time     Time  Current\n",
      "                                 Dload  Upload   Total   Spent    Left  Speed\n",
      "\n",
      "  0     0    0     0    0     0      0      0 --:--:-- --:--:-- --:--:--     0\n",
      "100   215  100    55  100   160   5700  16582 --:--:-- --:--:-- --:--:-- 23888\n"
     ]
    }
   ],
   "source": [
    "!curl --request POST \"http://127.0.0.1:8000/predict_knn\" \\\n",
    "--header \"Content-Type: application/json\" \\\n",
    "--data-raw \"{\\\n",
    "    \\\"island\\\": \\\"Dream\\\",\\\n",
    "    \\\"culmen_length_mm\\\": 45.2,\\\n",
    "    \\\"culmen_depth_mm\\\": 16.6,\\\n",
    "    \\\"flipper_length_mm\\\": 191,\\\n",
    "    \\\"body_mass_g\\\": 3250,\\\n",
    "    \\\"sex\\\": \\\"FEMALE\\\"\\\n",
    "}\" "
   ]
  },
  {
   "cell_type": "code",
   "execution_count": 81,
   "metadata": {},
   "outputs": [
    {
     "name": "stdout",
     "output_type": "stream",
     "text": [
      "{\n",
      "  \"accuracy(%)\": \"100.0\",\n",
      "  \"penguin\": \"Adelie\"\n",
      "}\n"
     ]
    },
    {
     "name": "stderr",
     "output_type": "stream",
     "text": [
      "  % Total    % Received % Xferd  Average Speed   Time    Time     Time  Current\n",
      "                                 Dload  Upload   Total   Spent    Left  Speed\n",
      "\n",
      "  0     0    0     0    0     0      0      0 --:--:-- --:--:-- --:--:--     0\n",
      "100   210  100    52  100   158   6776  20589 --:--:-- --:--:-- --:--:-- 30000\n"
     ]
    }
   ],
   "source": [
    "!curl --request POST \"http://127.0.0.1:8000/predict_knn\" \\\n",
    "--header \"Content-Type: application/json\" \\\n",
    "--data-raw \"{\\\n",
    "    \\\"island\\\": \\\"Dream\\\",\\\n",
    "    \\\"culmen_length_mm\\\": 39.2,\\\n",
    "    \\\"culmen_depth_mm\\\": 18.6,\\\n",
    "    \\\"flipper_length_mm\\\": 190,\\\n",
    "    \\\"body_mass_g\\\": 4250,\\\n",
    "    \\\"sex\\\": \\\"MALE\\\"\\\n",
    "}\" "
   ]
  },
  {
   "cell_type": "markdown",
   "metadata": {},
   "source": [
    "LOGISTICAL REGRESSION PETITIONS"
   ]
  },
  {
   "cell_type": "code",
   "execution_count": 82,
   "metadata": {},
   "outputs": [
    {
     "name": "stdout",
     "output_type": "stream",
     "text": [
      "{\n",
      "  \"accuracy(%)\": \"100.0\",\n",
      "  \"penguin\": \"Gentoo\"\n",
      "}\n"
     ]
    },
    {
     "name": "stderr",
     "output_type": "stream",
     "text": [
      "  % Total    % Received % Xferd  Average Speed   Time    Time     Time  Current\n",
      "                                 Dload  Upload   Total   Spent    Left  Speed\n",
      "\n",
      "  0     0    0     0    0     0      0      0 --:--:-- --:--:-- --:--:--     0\n",
      "100   213  100    52  100   161   7410  22944 --:--:-- --:--:-- --:--:-- 35500\n"
     ]
    }
   ],
   "source": [
    "!curl --request POST \"http://127.0.0.1:8000/predict_lr\" \\\n",
    "--header \"Content-Type: application/json\" \\\n",
    "--data-raw \"{\\\n",
    "    \\\"island\\\": \\\"Biscoe\\\",\\\n",
    "    \\\"culmen_length_mm\\\": 44.9,\\\n",
    "    \\\"culmen_depth_mm\\\": 13.3,\\\n",
    "    \\\"flipper_length_mm\\\": 213,\\\n",
    "    \\\"body_mass_g\\\": 5100,\\\n",
    "    \\\"sex\\\": \\\"FEMALE\\\"\\\n",
    "}\" "
   ]
  },
  {
   "cell_type": "code",
   "execution_count": 83,
   "metadata": {},
   "outputs": [
    {
     "name": "stdout",
     "output_type": "stream",
     "text": [
      "{\n",
      "  \"accuracy(%)\": \"99.97\",\n",
      "  \"penguin\": \"Chinstrap\"\n",
      "}\n"
     ]
    },
    {
     "name": "stderr",
     "output_type": "stream",
     "text": [
      "  % Total    % Received % Xferd  Average Speed   Time    Time     Time  Current\n",
      "                                 Dload  Upload   Total   Spent    Left  Speed\n",
      "\n",
      "  0     0    0     0    0     0      0      0 --:--:-- --:--:-- --:--:--     0\n",
      "100   213  100    55  100   158   8558  24587 --:--:-- --:--:-- --:--:-- 35500\n"
     ]
    }
   ],
   "source": [
    "!curl --request POST \"http://127.0.0.1:8000/predict_lr\" \\\n",
    "--header \"Content-Type: application/json\" \\\n",
    "--data-raw \"{\\\n",
    "    \\\"island\\\": \\\"Dream\\\",\\\n",
    "    \\\"culmen_length_mm\\\": 55.8,\\\n",
    "    \\\"culmen_depth_mm\\\": 19.8,\\\n",
    "    \\\"flipper_length_mm\\\": 207,\\\n",
    "    \\\"body_mass_g\\\": 4000,\\\n",
    "    \\\"sex\\\": \\\"MALE\\\"\\\n",
    "}\" "
   ]
  },
  {
   "cell_type": "markdown",
   "metadata": {},
   "source": [
    "SUPPORT VECTOR MACHINE PETITIONS"
   ]
  },
  {
   "cell_type": "code",
   "execution_count": 84,
   "metadata": {},
   "outputs": [
    {
     "name": "stdout",
     "output_type": "stream",
     "text": [
      "{\n",
      "  \"accuracy(%)\": \"99.3\",\n",
      "  \"penguin\": \"Chinstrap\"\n",
      "}\n"
     ]
    },
    {
     "name": "stderr",
     "output_type": "stream",
     "text": [
      "  % Total    % Received % Xferd  Average Speed   Time    Time     Time  Current\n",
      "                                 Dload  Upload   Total   Spent    Left  Speed\n",
      "\n",
      "  0     0    0     0    0     0      0      0 --:--:-- --:--:-- --:--:--     0\n",
      "100   212  100    54  100   158   8787  25711 --:--:-- --:--:-- --:--:-- 35333\n"
     ]
    }
   ],
   "source": [
    "!curl --request POST \"http://127.0.0.1:8000/predict_svm\" \\\n",
    "--header \"Content-Type: application/json\" \\\n",
    "--data-raw \"{\\\n",
    "    \\\"island\\\": \\\"Dream\\\",\\\n",
    "    \\\"culmen_length_mm\\\": 55.8,\\\n",
    "    \\\"culmen_depth_mm\\\": 19.8,\\\n",
    "    \\\"flipper_length_mm\\\": 207,\\\n",
    "    \\\"body_mass_g\\\": 4000,\\\n",
    "    \\\"sex\\\": \\\"MALE\\\"\\\n",
    "}\" "
   ]
  },
  {
   "cell_type": "code",
   "execution_count": 85,
   "metadata": {},
   "outputs": [
    {
     "name": "stdout",
     "output_type": "stream",
     "text": [
      "{\n",
      "  \"accuracy(%)\": \"99.4\",\n",
      "  \"penguin\": \"Adelie\"\n",
      "}\n"
     ]
    },
    {
     "name": "stderr",
     "output_type": "stream",
     "text": [
      "  % Total    % Received % Xferd  Average Speed   Time    Time     Time  Current\n",
      "                                 Dload  Upload   Total   Spent    Left  Speed\n",
      "\n",
      "  0     0    0     0    0     0      0      0 --:--:-- --:--:-- --:--:--     0\n",
      "100   215  100    51  100   164   8481  27274 --:--:-- --:--:-- --:--:-- 43000\n"
     ]
    }
   ],
   "source": [
    "!curl --request POST \"http://127.0.0.1:8000/predict_svm\" \\\n",
    "--header \"Content-Type: application/json\" \\\n",
    "--data-raw \"{\\\n",
    "    \\\"island\\\": \\\"Torgersen\\\",\\\n",
    "    \\\"culmen_length_mm\\\": 36.2,\\\n",
    "    \\\"culmen_depth_mm\\\": 16.1,\\\n",
    "    \\\"flipper_length_mm\\\": 187,\\\n",
    "    \\\"body_mass_g\\\": 3550,\\\n",
    "    \\\"sex\\\": \\\"FEMALE\\\"\\\n",
    "}\" "
   ]
  }
 ],
 "metadata": {
  "kernelspec": {
   "display_name": "penguins-oBcp-6gX-py3.12",
   "language": "python",
   "name": "python3"
  },
  "language_info": {
   "codemirror_mode": {
    "name": "ipython",
    "version": 3
   },
   "file_extension": ".py",
   "mimetype": "text/x-python",
   "name": "python",
   "nbconvert_exporter": "python",
   "pygments_lexer": "ipython3",
   "version": "3.12.6"
  }
 },
 "nbformat": 4,
 "nbformat_minor": 2
}
